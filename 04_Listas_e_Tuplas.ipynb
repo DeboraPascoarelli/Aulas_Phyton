{
 "cells": [
  {
   "cell_type": "markdown",
   "id": "2cc652f1",
   "metadata": {},
   "source": [
    "## Listas e Tuplas\n",
    "\n",
    "### Verificando itens na despensa\n",
    "\n",
    "Roberto está organizando sua despensa e quer verificar se determinados itens já estão armazenados antes de adicioná-los à lista de compras.\n",
    "\n",
    "Ajude Roberto a criar um programa que pergunte o item desejado e verifique se ele está na lista de itens disponíveis na despensa. Caso o item não esteja na lista, o programa deve informar que ele precisa ser comprado.\n",
    "\n",
    "Exemplo de Entrada:\n",
    "\n",
    "Digite o item que você quer verificar: açúcar\n",
    "\n",
    "Saída esperada:\n",
    "\n",
    "O item açúcar precisa ser comprado.\n",
    "\n",
    "-----\n",
    "\n",
    "Usamos uma lista predefinida de itens na despensa. O programa verifica se o item inserido está nessa lista usando o operador in. Se não estiver, exibe uma mensagem indicando que o item precisa ser comprado."
   ]
  },
  {
   "cell_type": "code",
   "execution_count": null,
   "id": "5e3e3a2d",
   "metadata": {},
   "outputs": [
    {
     "name": "stdout",
     "output_type": "stream",
     "text": [
      "O item açucar precisa ser comprado.\n",
      "['arroz', 'feijão', 'óleo']\n"
     ]
    }
   ],
   "source": [
    "despensa = ['arroz', 'feijão', 'óleo']\n",
    "item = input('Digite o item que você quer verifcar: ')\n",
    "if item in despensa:\n",
    "    print(f'O item {item} já está disponível na despensa')\n",
    "else:\n",
    "    print(f'O item {item} precisa ser comprado.')\n",
    "print(despensa)\n"
   ]
  },
  {
   "cell_type": "markdown",
   "id": "b82c3d16",
   "metadata": {},
   "source": [
    "### Organizando notas de um concurso de redação\n",
    "\n",
    "Uma escola realizou um concurso de redação, e o próximo passo é organizar as notas dos participantes para definir a ordem de premiação. Para garantir transparência, as notas precisam ser classificadas em ordem crescente, do menor para o maior valor.\n",
    "\n",
    "Com base nisso, desenvolva um programa que receba como entrada uma lista contendo as notas de todos os participantes e exiba, ao final, essa lista ordenada em ordem crescente.\n",
    "\n",
    "Exemplo de Entrada:\n",
    "\n",
    "Notas: [85, 70, 90, 60, 75]\n",
    "\n",
    "Saída esperada:\n",
    "\n",
    "Notas ordenadas: [60, 70, 75, 85, 90]\n",
    "\n",
    "----\n",
    "\n",
    "Para este desafio, podemos utilizar o método sort() para organizar as notas em ordem crescente."
   ]
  },
  {
   "cell_type": "code",
   "execution_count": null,
   "id": "001d3bd3",
   "metadata": {},
   "outputs": [
    {
     "name": "stdout",
     "output_type": "stream",
     "text": [
      "Notas originais: [85, 70, 90, 60, 75]\n",
      "Notas ordenadas: [60, 70, 75, 85, 90]\n"
     ]
    }
   ],
   "source": [
    "# Ordem crescente\n",
    "\n",
    "notas = [85,70,90,60,75]\n",
    "print('Notas originais:', notas)\n",
    "\n",
    "notas.sort()\n",
    "print('Notas ordenadas:' , notas)\n"
   ]
  },
  {
   "cell_type": "code",
   "execution_count": null,
   "id": "a227c828",
   "metadata": {},
   "outputs": [
    {
     "name": "stdout",
     "output_type": "stream",
     "text": [
      "Notas originais: [85, 70, 90, 60, 75]\n",
      "Notas em ordem decrescente: [90, 85, 75, 70, 60]\n"
     ]
    }
   ],
   "source": [
    "# Ordem decrescente\n",
    "\n",
    "notas = [85, 70, 90, 60, 75]\n",
    "notas_decrescente = sorted(notas, reverse=True)\n",
    "\n",
    "print('Notas originais:', notas)\n",
    "print('Notas em ordem decrescente:', notas_decrescente)\n"
   ]
  },
  {
   "cell_type": "markdown",
   "id": "1e7ebe75",
   "metadata": {},
   "source": [
    "### Registrando voluntários para uma campanha\n",
    "\n",
    "Uma ONG está organizando uma campanha de arrecadação de alimentos e precisa registrar os nomes dos voluntários que vão ajudar na ação. À medida que os voluntários se inscrevem, seus nomes devem ser adicionados à lista e quando for digitado a palavra sair o programa deve encerrar.\n",
    "\n",
    "Ajude a ONG a criar um programa que permita registrar os voluntários e exiba a lista completa no final.\n",
    "\n",
    "Exemplo de Entrada:\n",
    "\n",
    "- Digite o nome do voluntário (ou 'sair' para encerrar): Ana  \n",
    "- Digite o nome do voluntário (ou 'sair' para encerrar): João  \n",
    "- Digite o nome do voluntário (ou 'sair' para encerrar): Mariana  \n",
    "- Digite o nome do voluntário (ou 'sair' para encerrar): sair  \n",
    "\n",
    "Saída esperada:\n",
    "\n",
    "Voluntários registrados: ['Ana', 'João', 'Mariana']\n",
    "\n",
    "-----\n",
    "\n",
    "Neste caso, utilizamos o laço while para repetir a coleta de dados de forma contínua até que o usuário insira a palavra-chave \"sair\", encerrando o processo. Já o método append() é usado para adicionar os elementos à lista de voluntários."
   ]
  },
  {
   "cell_type": "code",
   "execution_count": null,
   "id": "94ab01c1",
   "metadata": {},
   "outputs": [
    {
     "name": "stdout",
     "output_type": "stream",
     "text": [
      "\n",
      "Voluntários registrados:\", voluntarios\n",
      "['Debora', 'João', 'Natalia', 'Mario']\n"
     ]
    }
   ],
   "source": [
    "voluntarios = []\n",
    "\n",
    "while True:\n",
    "    nome = input(\"Digite o nome do voluntário (ou 'sair' para encerrar): \")\n",
    "    if nome.lower() == 'sair':\n",
    "        break\n",
    "    voluntarios.append(nome)\n",
    "    \n",
    "print('\\nVoluntários registrados:\", voluntarios')\n",
    "print(voluntarios)\n"
   ]
  },
  {
   "cell_type": "code",
   "execution_count": null,
   "id": "bef01a0a",
   "metadata": {},
   "outputs": [
    {
     "name": "stdout",
     "output_type": "stream",
     "text": [
      "\n",
      "Voluntários registrados: \n",
      "1. ✅ Debora\n",
      "2. ✅ João\n",
      "3. ✅ Maria\n",
      "4. ✅ Nino\n"
     ]
    }
   ],
   "source": [
    "## Nomes por linhas e com numeração\n",
    "\n",
    "voluntarios = []\n",
    "\n",
    "while True:\n",
    "    nome = input(\"Digite o nome do voluntário (ou 'sair' para encerrar): \")\n",
    "    if nome.lower() == 'sair':\n",
    "        break\n",
    "    voluntarios.append(nome)\n",
    "    \n",
    "print('\\nVoluntários registrados: ')\n",
    "for i, nome in enumerate(voluntarios, start=1):\n",
    "    print(f'{i}. ✅ {nome}')\n"
   ]
  },
  {
   "cell_type": "markdown",
   "id": "630af37c",
   "metadata": {},
   "source": [
    "### Unindo o relatório de estoques\n",
    "\n",
    "Armano trabalha com a gestão de dois estoques de mercadorias que são representados como tuplas. Agora, ele precisa criar um relatório unificado com os produtos dos dois estoques juntos.\n",
    "\n",
    "Para ajudá-lo, como você criaria um programa que leia as informações dos estoques e gera um relatório com todos os produtos juntos?\n",
    "\n",
    "Exemplo de Entrada:\n",
    "\n",
    "Produtos do estoque 1 (separados por vírgula): Arroz, Feijão, Macarrão  \n",
    "Produtos do estoque 2 (separados por vírgula): Óleo, Sal, Açúcar    \n",
    "\n",
    "Saída esperada:  \n",
    "\n",
    "Estoque combinado:  \n",
    "('Arroz', 'Feijão', 'Macarrão', 'Óleo', 'Sal', 'Açúcar') \n",
    "\n",
    "-----\n",
    "\n",
    "Neste caso, usamos a estrutura de tuplas, pois são imutáveis e adequadas para armazenar dados fixos. Os dados são lidos dos usuários, convertidos em tuplas, e, em seguida, concatenados.\n",
    "\n"
   ]
  },
  {
   "cell_type": "code",
   "execution_count": null,
   "id": "cdef61ce",
   "metadata": {},
   "outputs": [
    {
     "name": "stdout",
     "output_type": "stream",
     "text": [
      "Estoque combinado: \n",
      "('arroz', ' feijão', ' açucar', ' óleo', 'bolacha', ' farinha', ' mel', ' café')\n"
     ]
    }
   ],
   "source": [
    "estoque1 = tuple(input('Produtos de estoque 1 (separado por vírgula): ').split(','))\n",
    "estoque2 = tuple(input('Produtos de estoque 2 (separado por vírgula): ').split(','))\n",
    "estoque_combinado = estoque1 + estoque2\n",
    "print(f'Estoque combinado: \\n{estoque_combinado}')\n"
   ]
  },
  {
   "cell_type": "code",
   "execution_count": null,
   "id": "c60c5068",
   "metadata": {},
   "outputs": [],
   "source": []
  }
 ],
 "metadata": {
  "kernelspec": {
   "display_name": "Python 3",
   "language": "python",
   "name": "python3"
  },
  "language_info": {
   "codemirror_mode": {
    "name": "ipython",
    "version": 3
   },
   "file_extension": ".py",
   "mimetype": "text/x-python",
   "name": "python",
   "nbconvert_exporter": "python",
   "pygments_lexer": "ipython3",
   "version": "3.11.9"
  }
 },
 "nbformat": 4,
 "nbformat_minor": 5
}
