{
 "cells": [
  {
   "cell_type": "markdown",
   "id": "da6d22d7",
   "metadata": {},
   "source": [
    "## Condicionais"
   ]
  },
  {
   "cell_type": "markdown",
   "id": "28b44b82",
   "metadata": {},
   "source": [
    "### Vendas\n",
    "\n",
    "Bruno gerencia um pequeno comércio e quer saber qual produto teve o melhor desempenho de vendas no mês passado. Ele registrou a quantidade vendida de dois produtos: maçãs e bananas. Agora, ele precisa escrever um programa que identifique e exiba qual deles teve maior venda.\n",
    "\n",
    "Crie um programa que receba o número de vendas dos dois produtos e exiba uma mensagem indicando qual deles vendeu mais. Se as quantidades forem iguais, exiba uma mensagem dizendo que houve empate."
   ]
  },
  {
   "cell_type": "code",
   "execution_count": null,
   "id": "808abc5d",
   "metadata": {},
   "outputs": [
    {
     "name": "stdout",
     "output_type": "stream",
     "text": [
      "As maçãs tiveram mais vendas\n"
     ]
    }
   ],
   "source": [
    "# Abrirá uma poup-up para digitarmos a quantidade de maçãs e bananas\n",
    "\n",
    "macas = int(input('Digite a quantidade de maçãs vendidas: '))\n",
    "bananas = int(input('Digite a quantidade de bananas vendidas: '))\n",
    "\n",
    "if macas > bananas:\n",
    "    print('As maçãs tiveram mais vendas')\n",
    "elif bananas > macas:\n",
    "    print('As bananas tiveram mais vendas')\n",
    "else:\n",
    "    print('As vendas foram iguais')\n"
   ]
  },
  {
   "cell_type": "markdown",
   "id": "c528064e",
   "metadata": {},
   "source": [
    "### Tempo do Projeto\n",
    "\n",
    "Camila está organizando um projeto e precisa calcular o tempo total necessário para concluir três atividades: A, B e C. No entanto, se alguma atividade tiver um número de dias negativo, o código deve avisar que os valores inseridos são inválidos e não calcular o total.\n",
    "\n",
    "Escreva um programa que receba o número de dias de três atividades e exiba o tempo total do projeto. Se algum valor for negativo, mostre uma mensagem informando o erro."
   ]
  },
  {
   "cell_type": "code",
   "execution_count": null,
   "id": "afc8ec1a",
   "metadata": {},
   "outputs": [
    {
     "name": "stdout",
     "output_type": "stream",
     "text": [
      "Erro: Os dias não podem ser negativos\n"
     ]
    }
   ],
   "source": [
    "atividade_A = int(input('Informe os dias para a atividade A: '))\n",
    "atividade_B = int(input('Informe os dias para a atividade B: '))\n",
    "atividade_C = int(input('Informe os dias para a atividade C: '))\n",
    "\n",
    "\n",
    "if atividade_A < 0 or atividade_B < 0 or atividade_C < 0:\n",
    "    print('Erro: Os dias não podem ser negativos')\n",
    "else:\n",
    "    tempo_total = atividade_A + atividade_B + atividade_C\n",
    "    print(f'O tempo total do projeto é de {tempo_total} dias')\n"
   ]
  },
  {
   "cell_type": "markdown",
   "id": "93678136",
   "metadata": {},
   "source": [
    "### Temperatura\n",
    "\n",
    "Lucas trabalha em TI e precisa garantir que a temperatura de uma sala de servidores não ultrapasse 25°C. Ele quer um programa que receba a temperatura atual como entrada e, se necessário, exiba uma mensagem de alerta."
   ]
  },
  {
   "cell_type": "code",
   "execution_count": null,
   "id": "f4e88093",
   "metadata": {},
   "outputs": [
    {
     "name": "stdout",
     "output_type": "stream",
     "text": [
      "Temperatura dentro do limite permitido.\n"
     ]
    }
   ],
   "source": [
    "temperatura = int(input('Digite a temperatura atual: '))\n",
    "\n",
    "if temperatura < 25:\n",
    "    print('Temperatura dentro do limite permitido.')\n",
    "else:\n",
    "    print('Alerta! Temperatura acima do limite permitido.')\n"
   ]
  },
  {
   "cell_type": "markdown",
   "id": "c446a8e2",
   "metadata": {},
   "source": [
    "### Índice Corporal\n",
    "\n",
    "Anna Júlia está criando um sistema para calcular o Índice de Massa Corporal (IMC) e fornecer recomendações básicas. O programa deve receber o peso e a altura de uma pessoa e exibir o valor do IMC, além de indicar se está abaixo do peso, com peso normal ou acima do peso. Crie um programa que receba o peso (em kg) e a altura (em metros) e calcule o IMC usando a fórmula: IMC = peso / (altura ** 2) Depois, exiba o valor do IMC e uma mensagem indicando se está abaixo do peso (IMC < 18.5), peso normal (18.5 <= IMC < 25) ou acima do peso (IMC >= 25)."
   ]
  },
  {
   "cell_type": "code",
   "execution_count": 14,
   "id": "9114d5c4",
   "metadata": {},
   "outputs": [
    {
     "name": "stdout",
     "output_type": "stream",
     "text": [
      "Você está com peso normal\n"
     ]
    }
   ],
   "source": [
    "#  float = números decimais\n",
    "\n",
    "peso = float(input('Digite seu peso(kg): '))\n",
    "altura = float(input('Digite sua altura (m): '))\n",
    "\n",
    "imc = peso / (altura **2)\n",
    "\n",
    "if imc < 18.5:\n",
    "    print('Você está abaixo do peso')\n",
    "elif imc < 25:\n",
    "    print('Você está com peso normal')\n",
    "else:\n",
    "    print('Você está acima do peso')\n",
    "    \n"
   ]
  },
  {
   "cell_type": "markdown",
   "id": "5ccf76d3",
   "metadata": {},
   "source": [
    "### Orçamento Mensal\n",
    "\n",
    "Carlos quer monitorar seu orçamento mensal para evitar gastos excessivos. Ele estabeleceu um limite de R$ 3.000,00 para seus gastos e precisa de um programa que ajude a controlar suas despesas. O programa deve receber o total de despesas realizadas e informar se ele ultrapassou o limite ou ainda está dentro do orçamento.\n"
   ]
  },
  {
   "cell_type": "code",
   "execution_count": null,
   "id": "b3f41a31",
   "metadata": {},
   "outputs": [
    {
     "name": "stdout",
     "output_type": "stream",
     "text": [
      "Atenção!!! Você ultrapassou o limite do orçamento\n"
     ]
    }
   ],
   "source": [
    "limite = 3000.00\n",
    "\n",
    "total_despesas = float(input('Digite o total de despesas do mês: '))\n",
    "\n",
    "if total_despesas < 3000.00:\n",
    "    print('Parabéns! Você está dentro da sua meta')\n",
    "else:\n",
    "    print('Atenção!!! Você ultrapassou o limite do orçamento')\n"
   ]
  },
  {
   "cell_type": "markdown",
   "id": "80e3fb53",
   "metadata": {},
   "source": [
    "### Acesso ao Escritório\n",
    "\n",
    "Mariana é responsável por liberar o acesso ao escritório e precisa de um programa que verifique se os funcionários podem entrar. Para isso, ela usará o horário atual. O escritório só permite acesso entre 8h e 18h. Crie um programa que receba a hora atual como entrada (em formato de 24 horas) e exiba uma mensagem informando se o acesso é permitido ou negado."
   ]
  },
  {
   "cell_type": "code",
   "execution_count": null,
   "id": "6ea70f93",
   "metadata": {},
   "outputs": [
    {
     "name": "stdout",
     "output_type": "stream",
     "text": [
      "Acesso negado.\n"
     ]
    }
   ],
   "source": [
    "hora_atual = int(input('Digite a hora atual (formato 24 horas): '))\n",
    "\n",
    "if 8 <= hora_atual < 18:\n",
    "    print('Acesso permitido.')\n",
    "else:\n",
    "    print('Acesso negado.')\n"
   ]
  },
  {
   "cell_type": "markdown",
   "id": "b2f03c62",
   "metadata": {},
   "source": [
    "### Média de Prova\n",
    "\n",
    "Uma professora precisa de um programa que ajude a calcular a média final dos alunos e informe se foram aprovados, ficaram de recuperação ou reprovados. As regras são:\n",
    "\n",
    "Média >= 7: Aprovado  \n",
    "5 <= Média < 7: Recuperação  \n",
    "Média < 5: Reprovado  \n",
    "Escreva um programa que receba três notas como entrada e calcule a média final. Com base na média, exiba a situação do aluno.  "
   ]
  },
  {
   "cell_type": "code",
   "execution_count": 20,
   "id": "62214a89",
   "metadata": {},
   "outputs": [
    {
     "name": "stdout",
     "output_type": "stream",
     "text": [
      "Reprovado\n"
     ]
    }
   ],
   "source": [
    "nota_01 = float(input('Digite a primeira nota: '))\n",
    "nota_02 = float(input('Digite a segunda nota: '))\n",
    "nota_03 = float(input('Digite a terceira nota: '))\n",
    "\n",
    "media = (nota_01 + nota_02 + nota_03) / 3\n",
    "\n",
    "if media >= 7:\n",
    "    print('Aprovado(a)')\n",
    "elif 5 <= media < 7:\n",
    "    print('Recuperação')\n",
    "elif media < 5:\n",
    "    print('Reprovado')\n"
   ]
  },
  {
   "cell_type": "markdown",
   "id": "49ff2e47",
   "metadata": {},
   "source": [
    "### Pedágio\n",
    "\n",
    "Fernanda está planejando uma viagem e quer calcular quanto pagará de pedágio. O valor do pedágio depende da distância percorrida:\n",
    "\n",
    "Até 100 km: R$ 10,00  \n",
    "Entre 100 km e 200 km: R$ 20,00  \n",
    "Acima de 200 km: R$ 30,00  \n",
    "Crie um programa que receba a distância percorrida e informe o valor do pedágio correspondente.  "
   ]
  },
  {
   "cell_type": "code",
   "execution_count": null,
   "id": "66e47680",
   "metadata": {},
   "outputs": [
    {
     "name": "stdout",
     "output_type": "stream",
     "text": [
      "O valor do pedágio é de R$ 30,00\n"
     ]
    }
   ],
   "source": [
    "distancia = int(input('Digite a distância percorrida: '))\n",
    "\n",
    "if distancia <= 100:\n",
    "    print('O valor do pedágio é de R$ 10,00')\n",
    "elif 100 < distancia <=200:\n",
    "    print('O valor do pedágio é de R$ 20,00')\n",
    "else:\n",
    "    print('O valor do pedágio é de R$ 30,00')\n"
   ]
  },
  {
   "cell_type": "markdown",
   "id": "ce302304",
   "metadata": {},
   "source": [
    "### Aprovação de Empréstimo\n",
    "\n",
    "Pedro quer solicitar um empréstimo, mas a aprovação depende de duas condições:  \n",
    "\n",
    "O valor da renda mensal precisa ser maior que R$ 2.000,00.  \n",
    "O valor da parcela não pode ultrapassar 30% da renda.  \n",
    "Crie um programa que receba como entrada a renda mensal de Pedro e o valor da parcela desejada. O programa deve informar se o empréstimo foi aprovado ou negado com base nas condições acima."
   ]
  },
  {
   "cell_type": "code",
   "execution_count": 29,
   "id": "ea7c6143",
   "metadata": {},
   "outputs": [
    {
     "name": "stdout",
     "output_type": "stream",
     "text": [
      "O valor da parcela representa  36.190476% e ela não pode utltrapassar 30% da renda mensal. Empréstimo reprovado\n"
     ]
    }
   ],
   "source": [
    "renda_mensal = float(input('Digite o valor da sua renda mensal: '))\n",
    "parcela_desejada = float(input('Digite o valor da parcela desejada: '))\n",
    "\n",
    "calculo_parcela = float(parcela_desejada/renda_mensal) *100\n",
    "\n",
    "if calculo_parcela <= 30:\n",
    "    print(f'O valor da parcela representa {calculo_parcela: 2f}% da sua renda mensal. Empréstimo aprovado')\n",
    "else:\n",
    "    print(f'O valor da parcela representa {calculo_parcela: 2f}% e ela não pode utltrapassar 30% da renda mensal. Empréstimo reprovado')\n"
   ]
  }
 ],
 "metadata": {
  "kernelspec": {
   "display_name": "Python 3",
   "language": "python",
   "name": "python3"
  },
  "language_info": {
   "codemirror_mode": {
    "name": "ipython",
    "version": 3
   },
   "file_extension": ".py",
   "mimetype": "text/x-python",
   "name": "python",
   "nbconvert_exporter": "python",
   "pygments_lexer": "ipython3",
   "version": "3.11.9"
  }
 },
 "nbformat": 4,
 "nbformat_minor": 5
}
